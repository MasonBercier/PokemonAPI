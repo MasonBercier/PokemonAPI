{
 "cells": [
  {
   "cell_type": "markdown",
   "id": "7196054f",
   "metadata": {},
   "source": [
    "# Working with APIs"
   ]
  },
  {
   "cell_type": "markdown",
   "id": "0547b71e",
   "metadata": {},
   "source": [
    "API stands for Application programming interface<br>\n",
    "APIs are a way for applications to talk to eachother<br>\n",
    "In python we use the requests package to handle the connection<br>\n",
    "<small><strong>Note: It is requests with an s not request(this is a different package)</strong></small><br>\n",
    "Most API's communicate with data in the form of JSON<br>\n",
    "JSON stands for JavaScript Object Notation"
   ]
  },
  {
   "attachments": {},
   "cell_type": "markdown",
   "id": "cc80a1f0",
   "metadata": {},
   "source": [
    "### importing requests module"
   ]
  },
  {
   "cell_type": "code",
   "execution_count": 3,
   "id": "4db9d154",
   "metadata": {},
   "outputs": [],
   "source": [
    "import requests"
   ]
  },
  {
   "cell_type": "markdown",
   "id": "e8c2ce51",
   "metadata": {},
   "source": [
    "We will be connecting to the Ergast F1 Racer API today:\n",
    "http://ergast.com/mrd/\n",
    "\n",
    "to view JSON data nicely in the Chrome browser install the extension JSONview"
   ]
  },
  {
   "cell_type": "code",
   "execution_count": 4,
   "id": "52c440c6",
   "metadata": {},
   "outputs": [],
   "source": [
    "# Make sure to attach extension .json at the end of url\n",
    "url = 'http://ergast.com/api/f1/2008/5/driverStandings.json'"
   ]
  },
  {
   "attachments": {},
   "cell_type": "markdown",
   "id": "1f8dc8b3",
   "metadata": {},
   "source": [
    "### using the request package to access data from api/url"
   ]
  },
  {
   "cell_type": "code",
   "execution_count": 6,
   "id": "f60c1b4a",
   "metadata": {},
   "outputs": [],
   "source": [
    "response = requests.get(url)"
   ]
  },
  {
   "attachments": {},
   "cell_type": "markdown",
   "id": "52f840a9",
   "metadata": {},
   "source": [
    "### checking and making sure we got a successful response from our API\n",
    "#### status codes: 200 = ok/successful, 400 = bad/unsuccessful"
   ]
  },
  {
   "cell_type": "code",
   "execution_count": 8,
   "id": "7b63a204",
   "metadata": {},
   "outputs": [
    {
     "data": {
      "text/plain": [
       "200"
      ]
     },
     "execution_count": 8,
     "metadata": {},
     "output_type": "execute_result"
    }
   ],
   "source": [
    "response.status_code"
   ]
  },
  {
   "attachments": {},
   "cell_type": "markdown",
   "id": "bc3fa89d",
   "metadata": {},
   "source": [
    "### view the response as a JSON with .json()"
   ]
  },
  {
   "cell_type": "code",
   "execution_count": 11,
   "id": "ed4d3256",
   "metadata": {},
   "outputs": [],
   "source": [
    "response.json()"
   ]
  },
  {
   "attachments": {},
   "cell_type": "markdown",
   "id": "3b49045f",
   "metadata": {},
   "source": [
    "### Get the Driver Standings Data from JSON"
   ]
  },
  {
   "cell_type": "code",
   "execution_count": 51,
   "id": "f074dfcf",
   "metadata": {},
   "outputs": [
    {
     "ename": "KeyError",
     "evalue": "'MRData'",
     "output_type": "error",
     "traceback": [
      "\u001b[1;31m---------------------------------------------------------------------------\u001b[0m",
      "\u001b[1;31mKeyError\u001b[0m                                  Traceback (most recent call last)",
      "Cell \u001b[1;32mIn[51], line 1\u001b[0m\n\u001b[1;32m----> 1\u001b[0m driver_standing_data \u001b[39m=\u001b[39m response\u001b[39m.\u001b[39;49mjson()[\u001b[39m'\u001b[39;49m\u001b[39mMRData\u001b[39;49m\u001b[39m'\u001b[39;49m][\u001b[39m'\u001b[39m\u001b[39mStandingsTable\u001b[39m\u001b[39m'\u001b[39m][\u001b[39m'\u001b[39m\u001b[39mStandingsLists\u001b[39m\u001b[39m'\u001b[39m][\u001b[39m0\u001b[39m][\u001b[39m'\u001b[39m\u001b[39mDriverStandings\u001b[39m\u001b[39m'\u001b[39m]\n",
      "\u001b[1;31mKeyError\u001b[0m: 'MRData'"
     ]
    }
   ],
   "source": [
    "driver_standing_data = response.json()['MRData']['StandingsTable']['StandingsLists'][0]['DriverStandings']"
   ]
  },
  {
   "attachments": {},
   "cell_type": "markdown",
   "id": "459823db",
   "metadata": {},
   "source": [
    "### Use a for loop to display all driver full names"
   ]
  },
  {
   "cell_type": "code",
   "execution_count": 28,
   "id": "be46a950",
   "metadata": {},
   "outputs": [],
   "source": [
    "for driver in driver_standing_data:\n",
    "    print(driver['Driver']['givenName'], driver['Driver']['familyName'])\n"
   ]
  },
  {
   "attachments": {},
   "cell_type": "markdown",
   "id": "43c20f0d",
   "metadata": {},
   "source": [
    "### Create a function getting certain driver info (givenName, familyName, dateOfBirth, wins, team)"
   ]
  },
  {
   "cell_type": "code",
   "execution_count": 20,
   "id": "3740c752",
   "metadata": {},
   "outputs": [],
   "source": [
    "def getDriverInfo(data):\n",
    "    new_driver_data = []\n",
    "    for driver in data:\n",
    "        driver_dict = {}\n",
    "        full_name = f\"{driver['Driver']['givenName']}, {driver['Driver']['familyName']}\"\n",
    "        driver_dict[full_name] = {\n",
    "            'DOB': driver['Driver']['dateOfBirth'],\n",
    "            'wins': driver['wins'],\n",
    "            'team': driver['Constructors'][0]['name']\n",
    "        }\n",
    "        new_driver_data.append(driver_dict)\n",
    "    return new_driver_data\n",
    "\n",
    "# getDriverInfo(driver_standing_data)"
   ]
  },
  {
   "attachments": {},
   "cell_type": "markdown",
   "id": "1a713b13",
   "metadata": {},
   "source": [
    "### Making a more flexible function to handle different years and rounds"
   ]
  },
  {
   "cell_type": "code",
   "execution_count": null,
   "id": "2183dafe",
   "metadata": {},
   "outputs": [],
   "source": [
    "def get_driver_info_year_round(year, round):\n",
    "    url = f'http://ergast.com/api/f1/{year}/{round}/driverStandings.json'\n",
    "    response = requests.get(url)\n",
    "    if response.ok:\n",
    "        standings_data = response.json()['MRData']['StandingsTable']['StandingsLists'][0]['DriverStandings']\n",
    "        return getDriverInfo(standings_data)\n",
    "\n",
    "# get_driver_info_year_round(2020, 7)"
   ]
  },
  {
   "cell_type": "code",
   "execution_count": 85,
   "id": "e9866280",
   "metadata": {},
   "outputs": [
    {
     "name": "stdout",
     "output_type": "stream",
     "text": [
      "https://raw.githubusercontent.com/PokeAPI/sprites/master/sprites/pokemon/59.png\n"
     ]
    }
   ],
   "source": [
    "url = 'https://pokeapi.co/api/v2/pokemon/arcanine'\n",
    "response = requests.get(url)\n",
    "sprite_url = response.json()['sprites']['front_default']\n",
    "print(sprite_url)"
   ]
  },
  {
   "cell_type": "markdown",
   "id": "6d546014",
   "metadata": {},
   "source": [
    "# <strong>Homework</strong>\n",
    "check out this Pokemon API https://pokeapi.co/\n",
    "Use the requests package to connect to this API and get and store data for 5 different pokemon.\n",
    "Get the pokemons: name, atleast one ability's name, base_experience, and the URL for its sprite (an image that shows up on screen) for the 'front_shiny', attack base_stat, hp base_stat, defense base_stat"
   ]
  },
  {
   "cell_type": "code",
   "execution_count": 107,
   "id": "5a9081e3",
   "metadata": {},
   "outputs": [
    {
     "name": "stdout",
     "output_type": "stream",
     "text": [
      "{'arcanine': {'name': 'arcanine', 'ability': 'intimidate', 'base exp': 194, 'default sprite': 'https://raw.githubusercontent.com/PokeAPI/sprites/master/sprites/pokemon/59.png', 'shiny sprite': 'https://raw.githubusercontent.com/PokeAPI/sprites/master/sprites/pokemon/shiny/59.png', 'attack stat': 110, 'hp stat': 90, 'defense stat': 80}}\n",
      "{'haunter': {'name': 'haunter', 'ability': 'levitate', 'base exp': 142, 'default sprite': 'https://raw.githubusercontent.com/PokeAPI/sprites/master/sprites/pokemon/93.png', 'shiny sprite': 'https://raw.githubusercontent.com/PokeAPI/sprites/master/sprites/pokemon/shiny/93.png', 'attack stat': 50, 'hp stat': 45, 'defense stat': 45}}\n",
      "{'scyther': {'name': 'scyther', 'ability': 'swarm', 'base exp': 100, 'default sprite': 'https://raw.githubusercontent.com/PokeAPI/sprites/master/sprites/pokemon/123.png', 'shiny sprite': 'https://raw.githubusercontent.com/PokeAPI/sprites/master/sprites/pokemon/shiny/123.png', 'attack stat': 110, 'hp stat': 70, 'defense stat': 80}}\n",
      "{'dragonite': {'name': 'dragonite', 'ability': 'inner-focus', 'base exp': 300, 'default sprite': 'https://raw.githubusercontent.com/PokeAPI/sprites/master/sprites/pokemon/149.png', 'shiny sprite': 'https://raw.githubusercontent.com/PokeAPI/sprites/master/sprites/pokemon/shiny/149.png', 'attack stat': 134, 'hp stat': 91, 'defense stat': 95}}\n",
      "{'snorlax': {'name': 'snorlax', 'ability': 'immunity', 'base exp': 189, 'default sprite': 'https://raw.githubusercontent.com/PokeAPI/sprites/master/sprites/pokemon/143.png', 'shiny sprite': 'https://raw.githubusercontent.com/PokeAPI/sprites/master/sprites/pokemon/shiny/143.png', 'attack stat': 110, 'hp stat': 160, 'defense stat': 65}}\n",
      "{'marowak': {'name': 'marowak', 'ability': 'rock-head', 'base exp': 149, 'default sprite': 'https://raw.githubusercontent.com/PokeAPI/sprites/master/sprites/pokemon/105.png', 'shiny sprite': 'https://raw.githubusercontent.com/PokeAPI/sprites/master/sprites/pokemon/shiny/105.png', 'attack stat': 80, 'hp stat': 60, 'defense stat': 110}}\n"
     ]
    }
   ],
   "source": [
    "def get_pokeinfo_name(pokemon_name):\n",
    "    url = f'https://pokeapi.co/api/v2/pokemon/{pokemon_name}'\n",
    "    response = requests.get(url)\n",
    "    poketeam = {}\n",
    "    if response.ok:\n",
    "        pokeinfo = {}\n",
    "        name = response.json()['forms'][0]['name']\n",
    "        pokeinfo['name'] = name\n",
    "        ability = response.json()['abilities'][0]['ability']['name']\n",
    "        pokeinfo['ability'] = ability\n",
    "        base_exp = response.json()['base_experience']\n",
    "        pokeinfo['base exp'] = base_exp\n",
    "        sprite_url = response.json()['sprites']['front_default']\n",
    "        pokeinfo['default sprite'] = sprite_url\n",
    "        shiny_sprite_url = response.json()['sprites']['front_shiny']\n",
    "        pokeinfo['shiny sprite'] = shiny_sprite_url\n",
    "        attack_stat = response.json()['stats'][1]['base_stat']\n",
    "        pokeinfo['attack stat'] = attack_stat\n",
    "        hp_stat = response.json()['stats'][0]['base_stat']\n",
    "        pokeinfo['hp stat'] = hp_stat\n",
    "        def_stat = response.json()['stats'][2]['base_stat']\n",
    "        pokeinfo['defense stat'] = def_stat\n",
    "        poketeam[pokemon_name] = pokeinfo\n",
    "    return poketeam\n",
    "print(get_pokeinfo_name('arcanine'))\n",
    "print(get_pokeinfo_name('haunter'))\n",
    "print(get_pokeinfo_name('scyther'))\n",
    "print(get_pokeinfo_name('dragonite'))\n",
    "print(get_pokeinfo_name('snorlax'))\n",
    "print(get_pokeinfo_name('marowak'))\n",
    "\n"
   ]
  }
 ],
 "metadata": {
  "kernelspec": {
   "display_name": "Python 3",
   "language": "python",
   "name": "python3"
  },
  "language_info": {
   "codemirror_mode": {
    "name": "ipython",
    "version": 3
   },
   "file_extension": ".py",
   "mimetype": "text/x-python",
   "name": "python",
   "nbconvert_exporter": "python",
   "pygments_lexer": "ipython3",
   "version": "3.10.6"
  },
  "vscode": {
   "interpreter": {
    "hash": "47bf9465a07b57669b0e1d698703dd8dabb51977bd99a06702fb496f426eb3a3"
   }
  }
 },
 "nbformat": 4,
 "nbformat_minor": 5
}
